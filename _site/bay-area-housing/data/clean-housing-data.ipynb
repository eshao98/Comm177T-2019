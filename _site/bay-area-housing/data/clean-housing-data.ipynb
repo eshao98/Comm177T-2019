{
 "cells": [
  {
   "cell_type": "code",
   "execution_count": 250,
   "metadata": {},
   "outputs": [],
   "source": [
    "import pandas as pd\n",
    "import csv\n",
    "import glob"
   ]
  },
  {
   "cell_type": "code",
   "execution_count": 251,
   "metadata": {},
   "outputs": [
    {
     "data": {
      "text/plain": [
       "'\\n# Matching county names to zip codes\\nzips = pd.read_csv(\"bayarea-zipcodes.csv\", sep=\",\")\\ncounties = pd.read_csv(\"countynames.csv\", sep=\",\")\\nmerged = pd.merge(zips, counties, on=\"zip\")\\nmerged.head()\\n'"
      ]
     },
     "execution_count": 251,
     "metadata": {},
     "output_type": "execute_result"
    }
   ],
   "source": [
    "\"\"\"\n",
    "# Matching county names to zip codes\n",
    "zips = pd.read_csv(\"bayarea-zipcodes.csv\", sep=\",\")\n",
    "counties = pd.read_csv(\"countynames.csv\", sep=\",\")\n",
    "merged = pd.merge(zips, counties, on=\"zip\")\n",
    "merged.head()\n",
    "\"\"\""
   ]
  },
  {
   "cell_type": "code",
   "execution_count": 252,
   "metadata": {},
   "outputs": [
    {
     "data": {
      "text/html": [
       "<div>\n",
       "<style scoped>\n",
       "    .dataframe tbody tr th:only-of-type {\n",
       "        vertical-align: middle;\n",
       "    }\n",
       "\n",
       "    .dataframe tbody tr th {\n",
       "        vertical-align: top;\n",
       "    }\n",
       "\n",
       "    .dataframe thead th {\n",
       "        text-align: right;\n",
       "    }\n",
       "</style>\n",
       "<table border=\"1\" class=\"dataframe\">\n",
       "  <thead>\n",
       "    <tr style=\"text-align: right;\">\n",
       "      <th></th>\n",
       "      <th>zip</th>\n",
       "    </tr>\n",
       "  </thead>\n",
       "  <tbody>\n",
       "    <tr>\n",
       "      <th>0</th>\n",
       "      <td>94558</td>\n",
       "    </tr>\n",
       "    <tr>\n",
       "      <th>1</th>\n",
       "      <td>94533</td>\n",
       "    </tr>\n",
       "    <tr>\n",
       "      <th>2</th>\n",
       "      <td>95620</td>\n",
       "    </tr>\n",
       "    <tr>\n",
       "      <th>3</th>\n",
       "      <td>95476</td>\n",
       "    </tr>\n",
       "    <tr>\n",
       "      <th>4</th>\n",
       "      <td>94559</td>\n",
       "    </tr>\n",
       "  </tbody>\n",
       "</table>\n",
       "</div>"
      ],
      "text/plain": [
       "     zip\n",
       "0  94558\n",
       "1  94533\n",
       "2  95620\n",
       "3  95476\n",
       "4  94559"
      ]
     },
     "execution_count": 252,
     "metadata": {},
     "output_type": "execute_result"
    }
   ],
   "source": [
    "# Checking for duplicates.\n",
    "zips = pd.read_csv(\"bayarea-zipcodes.csv\", sep=\",\")\n",
    "zips.drop_duplicates(subset=\"zip\", keep = False, inplace = True)\n",
    "zips.reset_index(drop = True, inplace = True)\n",
    "zips.head()"
   ]
  },
  {
   "cell_type": "code",
   "execution_count": 253,
   "metadata": {},
   "outputs": [],
   "source": [
    "# merged.to_csv(\"zip-county-data.csv\", sep=\",\")"
   ]
  },
  {
   "cell_type": "code",
   "execution_count": 256,
   "metadata": {},
   "outputs": [
    {
     "name": "stdout",
     "output_type": "stream",
     "text": [
      "['2014.csv', '2017.csv', '2012.csv', '2019.csv', '2013.csv', '2011.csv', '2016.csv', '2015.csv', '2018.csv']\n"
     ]
    }
   ],
   "source": [
    "# Getting list of file names\n",
    "filenames = glob.glob(\"20**.csv\")\n",
    "print(filenames)"
   ]
  },
  {
   "cell_type": "code",
   "execution_count": 261,
   "metadata": {},
   "outputs": [
    {
     "name": "stdout",
     "output_type": "stream",
     "text": [
      "Adding 2014.csv\n",
      "200\n",
      "Adding 2017.csv\n",
      "199\n",
      "Adding 2012.csv\n",
      "205\n",
      "Adding 2019.csv\n",
      "201\n",
      "Adding 2013.csv\n",
      "199\n",
      "Adding 2011.csv\n",
      "196\n",
      "Adding 2016.csv\n",
      "204\n",
      "Adding 2015.csv\n",
      "198\n",
      "Adding 2018.csv\n",
      "200\n"
     ]
    }
   ],
   "source": [
    "# Turn into a list of dataframes\n",
    "dfs = []\n",
    "for filename in filenames:\n",
    "    print('Adding ' + filename)\n",
    "    file = pd.read_csv(filename, names=['zip', '1br', '2br', '3br', '4br'])\n",
    "    file['year'] = filename[:4]\n",
    "    merged = pd.merge(zips.astype(str), file.astype(str), on=\"zip\")\n",
    "    print(len(merged))\n",
    "    dfs.append(merged)"
   ]
  },
  {
   "cell_type": "code",
   "execution_count": 263,
   "metadata": {},
   "outputs": [
    {
     "data": {
      "text/plain": [
       "1802"
      ]
     },
     "execution_count": 263,
     "metadata": {},
     "output_type": "execute_result"
    }
   ],
   "source": [
    "df = pd.concat(dfs)\n",
    "df.sort_values(\"zip\")\n",
    "df.to_csv(\"data.csv\")"
   ]
  },
  {
   "cell_type": "code",
   "execution_count": 283,
   "metadata": {},
   "outputs": [
    {
     "ename": "SyntaxError",
     "evalue": "invalid syntax (<ipython-input-283-58c38651535a>, line 5)",
     "output_type": "error",
     "traceback": [
      "\u001b[0;36m  File \u001b[0;32m\"<ipython-input-283-58c38651535a>\"\u001b[0;36m, line \u001b[0;32m5\u001b[0m\n\u001b[0;31m    merged.drop_duplicates(subset=\"zip\" & subset=\"year\", keep=\"first\", inplace=False)\u001b[0m\n\u001b[0m                                                ^\u001b[0m\n\u001b[0;31mSyntaxError\u001b[0m\u001b[0;31m:\u001b[0m invalid syntax\n"
     ]
    }
   ],
   "source": [
    "# Matching county names to zip codes\n",
    "zips = pd.read_csv(\"data.csv\", sep=\",\")\n",
    "counties = pd.read_csv(\"countynames.csv\", sep=\",\")\n",
    "merged = pd.merge(zips, counties, on=\"zip\")\n",
    "merged.drop_duplicates(subset=[]\"zip\",\"year\", keep=\"first\", inplace=True)\n",
    "print(merged)"
   ]
  },
  {
   "cell_type": "code",
   "execution_count": null,
   "metadata": {},
   "outputs": [],
   "source": []
  }
 ],
 "metadata": {
  "kernelspec": {
   "display_name": "Python 3",
   "language": "python",
   "name": "python3"
  },
  "language_info": {
   "codemirror_mode": {
    "name": "ipython",
    "version": 3
   },
   "file_extension": ".py",
   "mimetype": "text/x-python",
   "name": "python",
   "nbconvert_exporter": "python",
   "pygments_lexer": "ipython3",
   "version": "3.6.7"
  }
 },
 "nbformat": 4,
 "nbformat_minor": 2
}
