{
 "cells": [
  {
   "cell_type": "code",
   "execution_count": 1,
   "metadata": {},
   "outputs": [],
   "source": [
    "import pandas as pd\n",
    "import csv\n",
    "import glob"
   ]
  },
  {
   "cell_type": "code",
   "execution_count": 2,
   "metadata": {},
   "outputs": [
    {
     "data": {
      "text/plain": [
       "'\\n# Matching county names to zip codes\\nzips = pd.read_csv(\"bayarea-zipcodes.csv\", sep=\",\")\\ncounties = pd.read_csv(\"countynames.csv\", sep=\",\")\\nmerged = pd.merge(zips, counties, on=\"zip\")\\nmerged.head()\\n'"
      ]
     },
     "execution_count": 2,
     "metadata": {},
     "output_type": "execute_result"
    }
   ],
   "source": [
    "\"\"\"\n",
    "# Matching county names to zip codes\n",
    "zips = pd.read_csv(\"bayarea-zipcodes.csv\", sep=\",\")\n",
    "counties = pd.read_csv(\"countynames.csv\", sep=\",\")\n",
    "merged = pd.merge(zips, counties, on=\"zip\")\n",
    "merged.head()\n",
    "\"\"\""
   ]
  },
  {
   "cell_type": "code",
   "execution_count": 3,
   "metadata": {},
   "outputs": [
    {
     "data": {
      "text/html": [
       "<div>\n",
       "<style scoped>\n",
       "    .dataframe tbody tr th:only-of-type {\n",
       "        vertical-align: middle;\n",
       "    }\n",
       "\n",
       "    .dataframe tbody tr th {\n",
       "        vertical-align: top;\n",
       "    }\n",
       "\n",
       "    .dataframe thead th {\n",
       "        text-align: right;\n",
       "    }\n",
       "</style>\n",
       "<table border=\"1\" class=\"dataframe\">\n",
       "  <thead>\n",
       "    <tr style=\"text-align: right;\">\n",
       "      <th></th>\n",
       "      <th>zip</th>\n",
       "    </tr>\n",
       "  </thead>\n",
       "  <tbody>\n",
       "    <tr>\n",
       "      <th>0</th>\n",
       "      <td>94558</td>\n",
       "    </tr>\n",
       "    <tr>\n",
       "      <th>1</th>\n",
       "      <td>94533</td>\n",
       "    </tr>\n",
       "    <tr>\n",
       "      <th>2</th>\n",
       "      <td>95620</td>\n",
       "    </tr>\n",
       "    <tr>\n",
       "      <th>3</th>\n",
       "      <td>95476</td>\n",
       "    </tr>\n",
       "    <tr>\n",
       "      <th>4</th>\n",
       "      <td>94559</td>\n",
       "    </tr>\n",
       "  </tbody>\n",
       "</table>\n",
       "</div>"
      ],
      "text/plain": [
       "     zip\n",
       "0  94558\n",
       "1  94533\n",
       "2  95620\n",
       "3  95476\n",
       "4  94559"
      ]
     },
     "execution_count": 3,
     "metadata": {},
     "output_type": "execute_result"
    }
   ],
   "source": [
    "# Checking for duplicates.\n",
    "zips = pd.read_csv(\"bayarea-zipcodes.csv\", sep=\",\")\n",
    "zips.drop_duplicates(subset=\"zip\", keep = False, inplace = True)\n",
    "zips.reset_index(drop = True, inplace = True)\n",
    "zips.head()"
   ]
  },
  {
   "cell_type": "code",
   "execution_count": 4,
   "metadata": {},
   "outputs": [],
   "source": [
    "# merged.to_csv(\"zip-county-data.csv\", sep=\",\")"
   ]
  },
  {
   "cell_type": "code",
   "execution_count": 5,
   "metadata": {},
   "outputs": [
    {
     "name": "stdout",
     "output_type": "stream",
     "text": [
      "['2014.csv', '2017.csv', '2012.csv', '2019.csv', '2013.csv', '2011.csv', '2016.csv', '2015.csv', '2018.csv']\n"
     ]
    }
   ],
   "source": [
    "# Getting list of file names\n",
    "filenames = glob.glob(\"20**.csv\")\n",
    "print(filenames)"
   ]
  },
  {
   "cell_type": "code",
   "execution_count": 6,
   "metadata": {},
   "outputs": [
    {
     "name": "stdout",
     "output_type": "stream",
     "text": [
      "Adding 2014.csv\n",
      "200\n",
      "Adding 2017.csv\n",
      "199\n",
      "Adding 2012.csv\n",
      "205\n",
      "Adding 2019.csv\n",
      "201\n",
      "Adding 2013.csv\n",
      "199\n",
      "Adding 2011.csv\n",
      "196\n",
      "Adding 2016.csv\n",
      "204\n",
      "Adding 2015.csv\n",
      "198\n",
      "Adding 2018.csv\n",
      "200\n"
     ]
    }
   ],
   "source": [
    "# Turn into a list of dataframes\n",
    "dfs = []\n",
    "for filename in filenames:\n",
    "    print('Adding ' + filename)\n",
    "    file = pd.read_csv(filename, names=['zip', '1br', '2br', '3br', '4br'])\n",
    "    file['year'] = filename[:4]\n",
    "    merged = pd.merge(zips.astype(str), file.astype(str), on=\"zip\")\n",
    "    print(len(merged))\n",
    "    dfs.append(merged)"
   ]
  },
  {
   "cell_type": "code",
   "execution_count": 7,
   "metadata": {},
   "outputs": [
    {
     "data": {
      "text/html": [
       "<div>\n",
       "<style scoped>\n",
       "    .dataframe tbody tr th:only-of-type {\n",
       "        vertical-align: middle;\n",
       "    }\n",
       "\n",
       "    .dataframe tbody tr th {\n",
       "        vertical-align: top;\n",
       "    }\n",
       "\n",
       "    .dataframe thead th {\n",
       "        text-align: right;\n",
       "    }\n",
       "</style>\n",
       "<table border=\"1\" class=\"dataframe\">\n",
       "  <thead>\n",
       "    <tr style=\"text-align: right;\">\n",
       "      <th></th>\n",
       "      <th>zip</th>\n",
       "      <th>1br</th>\n",
       "      <th>2br</th>\n",
       "      <th>3br</th>\n",
       "      <th>4br</th>\n",
       "      <th>year</th>\n",
       "    </tr>\n",
       "  </thead>\n",
       "  <tbody>\n",
       "    <tr>\n",
       "      <th>0</th>\n",
       "      <td>94558</td>\n",
       "      <td>1090</td>\n",
       "      <td>1460</td>\n",
       "      <td>2080</td>\n",
       "      <td>2050</td>\n",
       "      <td>2014</td>\n",
       "    </tr>\n",
       "    <tr>\n",
       "      <th>1</th>\n",
       "      <td>94558</td>\n",
       "      <td>930</td>\n",
       "      <td>1160</td>\n",
       "      <td>1710</td>\n",
       "      <td>2030</td>\n",
       "      <td>2014</td>\n",
       "    </tr>\n",
       "    <tr>\n",
       "      <th>2</th>\n",
       "      <td>94533</td>\n",
       "      <td>850</td>\n",
       "      <td>1070</td>\n",
       "      <td>1580</td>\n",
       "      <td>1870</td>\n",
       "      <td>2014</td>\n",
       "    </tr>\n",
       "    <tr>\n",
       "      <th>3</th>\n",
       "      <td>95620</td>\n",
       "      <td>1000</td>\n",
       "      <td>1250</td>\n",
       "      <td>1840</td>\n",
       "      <td>2190</td>\n",
       "      <td>2014</td>\n",
       "    </tr>\n",
       "    <tr>\n",
       "      <th>4</th>\n",
       "      <td>95620</td>\n",
       "      <td>830</td>\n",
       "      <td>1040</td>\n",
       "      <td>1530</td>\n",
       "      <td>1840</td>\n",
       "      <td>2014</td>\n",
       "    </tr>\n",
       "  </tbody>\n",
       "</table>\n",
       "</div>"
      ],
      "text/plain": [
       "     zip   1br   2br   3br   4br  year\n",
       "0  94558  1090  1460  2080  2050  2014\n",
       "1  94558   930  1160  1710  2030  2014\n",
       "2  94533   850  1070  1580  1870  2014\n",
       "3  95620  1000  1250  1840  2190  2014\n",
       "4  95620   830  1040  1530  1840  2014"
      ]
     },
     "execution_count": 7,
     "metadata": {},
     "output_type": "execute_result"
    }
   ],
   "source": [
    "df = pd.concat(dfs)\n",
    "df.sort_values(\"zip\")\n",
    "df.to_csv(\"data.csv\")\n",
    "df.head()"
   ]
  },
  {
   "cell_type": "code",
   "execution_count": 9,
   "metadata": {},
   "outputs": [
    {
     "data": {
      "text/html": [
       "<div>\n",
       "<style scoped>\n",
       "    .dataframe tbody tr th:only-of-type {\n",
       "        vertical-align: middle;\n",
       "    }\n",
       "\n",
       "    .dataframe tbody tr th {\n",
       "        vertical-align: top;\n",
       "    }\n",
       "\n",
       "    .dataframe thead th {\n",
       "        text-align: right;\n",
       "    }\n",
       "</style>\n",
       "<table border=\"1\" class=\"dataframe\">\n",
       "  <thead>\n",
       "    <tr style=\"text-align: right;\">\n",
       "      <th></th>\n",
       "      <th>zip</th>\n",
       "      <th>1br</th>\n",
       "      <th>2br</th>\n",
       "      <th>3br</th>\n",
       "      <th>4br</th>\n",
       "      <th>year</th>\n",
       "      <th>county</th>\n",
       "    </tr>\n",
       "  </thead>\n",
       "  <tbody>\n",
       "    <tr>\n",
       "      <th>0</th>\n",
       "      <td>94558</td>\n",
       "      <td>1090</td>\n",
       "      <td>1460</td>\n",
       "      <td>2080</td>\n",
       "      <td>2050</td>\n",
       "      <td>2014</td>\n",
       "      <td>Napa County</td>\n",
       "    </tr>\n",
       "    <tr>\n",
       "      <th>1</th>\n",
       "      <td>94558</td>\n",
       "      <td>1090</td>\n",
       "      <td>1460</td>\n",
       "      <td>2080</td>\n",
       "      <td>2050</td>\n",
       "      <td>2014</td>\n",
       "      <td>Sonoma County</td>\n",
       "    </tr>\n",
       "    <tr>\n",
       "      <th>2</th>\n",
       "      <td>94558</td>\n",
       "      <td>1090</td>\n",
       "      <td>1460</td>\n",
       "      <td>2080</td>\n",
       "      <td>2050</td>\n",
       "      <td>2014</td>\n",
       "      <td>Solano County</td>\n",
       "    </tr>\n",
       "    <tr>\n",
       "      <th>3</th>\n",
       "      <td>94558</td>\n",
       "      <td>930</td>\n",
       "      <td>1160</td>\n",
       "      <td>1710</td>\n",
       "      <td>2030</td>\n",
       "      <td>2014</td>\n",
       "      <td>Napa County</td>\n",
       "    </tr>\n",
       "    <tr>\n",
       "      <th>4</th>\n",
       "      <td>94558</td>\n",
       "      <td>930</td>\n",
       "      <td>1160</td>\n",
       "      <td>1710</td>\n",
       "      <td>2030</td>\n",
       "      <td>2014</td>\n",
       "      <td>Sonoma County</td>\n",
       "    </tr>\n",
       "  </tbody>\n",
       "</table>\n",
       "</div>"
      ],
      "text/plain": [
       "     zip   1br   2br   3br   4br  year         county\n",
       "0  94558  1090  1460  2080  2050  2014    Napa County\n",
       "1  94558  1090  1460  2080  2050  2014  Sonoma County\n",
       "2  94558  1090  1460  2080  2050  2014  Solano County\n",
       "3  94558   930  1160  1710  2030  2014    Napa County\n",
       "4  94558   930  1160  1710  2030  2014  Sonoma County"
      ]
     },
     "execution_count": 9,
     "metadata": {},
     "output_type": "execute_result"
    }
   ],
   "source": [
    "# Matching county names to zip codes\n",
    "zips = pd.read_csv(\"data.csv\", sep=\",\")\n",
    "counties = pd.read_csv(\"countynames.csv\", sep=\",\")\n",
    "merged = pd.merge(zips, counties, on=\"zip\")\n",
    "merged = merged.drop(columns=\"Unnamed: 0\")\n",
    "merged.head()"
   ]
  },
  {
   "cell_type": "code",
   "execution_count": 14,
   "metadata": {},
   "outputs": [],
   "source": [
    "merged.drop_duplicates(subset=['zip', 'year'], keep='first', inplace=True)\n",
    "merged.to_csv(\"zip-county-data.csv\")"
   ]
  },
  {
   "cell_type": "code",
   "execution_count": 16,
   "metadata": {},
   "outputs": [
    {
     "data": {
      "text/plain": [
       "1678"
      ]
     },
     "execution_count": 16,
     "metadata": {},
     "output_type": "execute_result"
    }
   ],
   "source": [
    "len(merged)"
   ]
  },
  {
   "cell_type": "code",
   "execution_count": null,
   "metadata": {},
   "outputs": [],
   "source": []
  }
 ],
 "metadata": {
  "kernelspec": {
   "display_name": "Python 3",
   "language": "python",
   "name": "python3"
  },
  "language_info": {
   "codemirror_mode": {
    "name": "ipython",
    "version": 3
   },
   "file_extension": ".py",
   "mimetype": "text/x-python",
   "name": "python",
   "nbconvert_exporter": "python",
   "pygments_lexer": "ipython3",
   "version": "3.6.7"
  }
 },
 "nbformat": 4,
 "nbformat_minor": 2
}
