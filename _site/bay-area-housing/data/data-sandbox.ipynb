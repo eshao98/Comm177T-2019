{
 "cells": [
  {
   "cell_type": "code",
   "execution_count": 2,
   "metadata": {},
   "outputs": [],
   "source": [
    "import csv\n",
    "import pandas as pd"
   ]
  },
  {
   "cell_type": "code",
   "execution_count": 3,
   "metadata": {},
   "outputs": [],
   "source": [
    "data = pd.read_csv(\"data.csv\", sep=\",\")"
   ]
  },
  {
   "cell_type": "code",
   "execution_count": 4,
   "metadata": {},
   "outputs": [
    {
     "data": {
      "text/html": [
       "<div>\n",
       "<style scoped>\n",
       "    .dataframe tbody tr th:only-of-type {\n",
       "        vertical-align: middle;\n",
       "    }\n",
       "\n",
       "    .dataframe tbody tr th {\n",
       "        vertical-align: top;\n",
       "    }\n",
       "\n",
       "    .dataframe thead th {\n",
       "        text-align: right;\n",
       "    }\n",
       "</style>\n",
       "<table border=\"1\" class=\"dataframe\">\n",
       "  <thead>\n",
       "    <tr style=\"text-align: right;\">\n",
       "      <th></th>\n",
       "      <th>zip</th>\n",
       "      <th>1br</th>\n",
       "      <th>2br</th>\n",
       "      <th>3br</th>\n",
       "      <th>4br</th>\n",
       "      <th>year</th>\n",
       "      <th>1br-hw</th>\n",
       "      <th>2br-hw</th>\n",
       "      <th>3br-hw</th>\n",
       "      <th>4br-hw</th>\n",
       "      <th>city</th>\n",
       "      <th>county</th>\n",
       "    </tr>\n",
       "  </thead>\n",
       "  <tbody>\n",
       "    <tr>\n",
       "      <th>0</th>\n",
       "      <td>94002</td>\n",
       "      <td>1390</td>\n",
       "      <td>1640</td>\n",
       "      <td>2210</td>\n",
       "      <td>2580</td>\n",
       "      <td>2011</td>\n",
       "      <td>26.73</td>\n",
       "      <td>31.54</td>\n",
       "      <td>42.50</td>\n",
       "      <td>49.62</td>\n",
       "      <td>Belmont</td>\n",
       "      <td>San Mateo County</td>\n",
       "    </tr>\n",
       "    <tr>\n",
       "      <th>1</th>\n",
       "      <td>94005</td>\n",
       "      <td>1390</td>\n",
       "      <td>1630</td>\n",
       "      <td>2190</td>\n",
       "      <td>2560</td>\n",
       "      <td>2011</td>\n",
       "      <td>26.73</td>\n",
       "      <td>31.35</td>\n",
       "      <td>42.12</td>\n",
       "      <td>49.23</td>\n",
       "      <td>Brisbane</td>\n",
       "      <td>San Mateo County</td>\n",
       "    </tr>\n",
       "    <tr>\n",
       "      <th>2</th>\n",
       "      <td>94010</td>\n",
       "      <td>1290</td>\n",
       "      <td>1520</td>\n",
       "      <td>2040</td>\n",
       "      <td>2390</td>\n",
       "      <td>2011</td>\n",
       "      <td>24.81</td>\n",
       "      <td>29.23</td>\n",
       "      <td>39.23</td>\n",
       "      <td>45.96</td>\n",
       "      <td>Burlingame</td>\n",
       "      <td>San Mateo County</td>\n",
       "    </tr>\n",
       "    <tr>\n",
       "      <th>3</th>\n",
       "      <td>94014</td>\n",
       "      <td>1260</td>\n",
       "      <td>1480</td>\n",
       "      <td>1990</td>\n",
       "      <td>2330</td>\n",
       "      <td>2011</td>\n",
       "      <td>24.23</td>\n",
       "      <td>28.46</td>\n",
       "      <td>38.27</td>\n",
       "      <td>44.81</td>\n",
       "      <td>Daly City</td>\n",
       "      <td>San Mateo County</td>\n",
       "    </tr>\n",
       "    <tr>\n",
       "      <th>4</th>\n",
       "      <td>94015</td>\n",
       "      <td>1460</td>\n",
       "      <td>1720</td>\n",
       "      <td>2310</td>\n",
       "      <td>2710</td>\n",
       "      <td>2011</td>\n",
       "      <td>28.08</td>\n",
       "      <td>33.08</td>\n",
       "      <td>44.42</td>\n",
       "      <td>52.12</td>\n",
       "      <td>Daly City</td>\n",
       "      <td>San Mateo County</td>\n",
       "    </tr>\n",
       "  </tbody>\n",
       "</table>\n",
       "</div>"
      ],
      "text/plain": [
       "     zip   1br   2br   3br   4br  year  1br-hw  2br-hw  3br-hw  4br-hw  \\\n",
       "0  94002  1390  1640  2210  2580  2011   26.73   31.54   42.50   49.62   \n",
       "1  94005  1390  1630  2190  2560  2011   26.73   31.35   42.12   49.23   \n",
       "2  94010  1290  1520  2040  2390  2011   24.81   29.23   39.23   45.96   \n",
       "3  94014  1260  1480  1990  2330  2011   24.23   28.46   38.27   44.81   \n",
       "4  94015  1460  1720  2310  2710  2011   28.08   33.08   44.42   52.12   \n",
       "\n",
       "         city            county  \n",
       "0     Belmont  San Mateo County  \n",
       "1    Brisbane  San Mateo County  \n",
       "2  Burlingame  San Mateo County  \n",
       "3   Daly City  San Mateo County  \n",
       "4   Daly City  San Mateo County  "
      ]
     },
     "execution_count": 4,
     "metadata": {},
     "output_type": "execute_result"
    }
   ],
   "source": [
    "data.head()"
   ]
  },
  {
   "cell_type": "code",
   "execution_count": 10,
   "metadata": {},
   "outputs": [
    {
     "data": {
      "text/plain": [
       "zip                94002\n",
       "1br                  770\n",
       "2br                  940\n",
       "3br                 1360\n",
       "4br                 1550\n",
       "year                2011\n",
       "1br-hw             14.81\n",
       "2br-hw             18.08\n",
       "3br-hw             26.15\n",
       "4br-hw             29.81\n",
       "city             Alameda\n",
       "county    Alameda County\n",
       "dtype: object"
      ]
     },
     "execution_count": 10,
     "metadata": {},
     "output_type": "execute_result"
    }
   ],
   "source": [
    "data.min()"
   ]
  },
  {
   "cell_type": "code",
   "execution_count": 25,
   "metadata": {},
   "outputs": [
    {
     "data": {
      "text/plain": [
       "zip               95620\n",
       "1br                3750\n",
       "2br                4680\n",
       "3br                6100\n",
       "4br                7250\n",
       "year               2019\n",
       "1br-hw            72.12\n",
       "2br-hw               90\n",
       "3br-hw           117.31\n",
       "4br-hw           139.42\n",
       "city           Woodacre\n",
       "county    Sonoma County\n",
       "dtype: object"
      ]
     },
     "execution_count": 25,
     "metadata": {},
     "output_type": "execute_result"
    }
   ],
   "source": [
    "data.max()"
   ]
  },
  {
   "cell_type": "code",
   "execution_count": null,
   "metadata": {},
   "outputs": [],
   "source": []
  }
 ],
 "metadata": {
  "kernelspec": {
   "display_name": "Python 3",
   "language": "python",
   "name": "python3"
  },
  "language_info": {
   "codemirror_mode": {
    "name": "ipython",
    "version": 3
   },
   "file_extension": ".py",
   "mimetype": "text/x-python",
   "name": "python",
   "nbconvert_exporter": "python",
   "pygments_lexer": "ipython3",
   "version": "3.6.7"
  }
 },
 "nbformat": 4,
 "nbformat_minor": 2
}
