{
 "cells": [
  {
   "cell_type": "code",
   "execution_count": 10,
   "metadata": {},
   "outputs": [],
   "source": [
    "import pandas as pd\n",
    "from uszipcode import SearchEngine\n",
    "import csv"
   ]
  },
  {
   "cell_type": "code",
   "execution_count": 3,
   "metadata": {},
   "outputs": [
    {
     "data": {
      "text/html": [
       "<div>\n",
       "<style scoped>\n",
       "    .dataframe tbody tr th:only-of-type {\n",
       "        vertical-align: middle;\n",
       "    }\n",
       "\n",
       "    .dataframe tbody tr th {\n",
       "        vertical-align: top;\n",
       "    }\n",
       "\n",
       "    .dataframe thead th {\n",
       "        text-align: right;\n",
       "    }\n",
       "</style>\n",
       "<table border=\"1\" class=\"dataframe\">\n",
       "  <thead>\n",
       "    <tr style=\"text-align: right;\">\n",
       "      <th></th>\n",
       "      <th>zip</th>\n",
       "      <th>1br</th>\n",
       "      <th>2br</th>\n",
       "      <th>3br</th>\n",
       "      <th>4br</th>\n",
       "      <th>year</th>\n",
       "    </tr>\n",
       "  </thead>\n",
       "  <tbody>\n",
       "    <tr>\n",
       "      <th>1469</th>\n",
       "      <td>94002</td>\n",
       "      <td>1390</td>\n",
       "      <td>1640</td>\n",
       "      <td>2210</td>\n",
       "      <td>2580</td>\n",
       "      <td>2011</td>\n",
       "    </tr>\n",
       "    <tr>\n",
       "      <th>1191</th>\n",
       "      <td>94005</td>\n",
       "      <td>1390</td>\n",
       "      <td>1630</td>\n",
       "      <td>2190</td>\n",
       "      <td>2560</td>\n",
       "      <td>2011</td>\n",
       "    </tr>\n",
       "    <tr>\n",
       "      <th>1370</th>\n",
       "      <td>94010</td>\n",
       "      <td>1290</td>\n",
       "      <td>1520</td>\n",
       "      <td>2040</td>\n",
       "      <td>2390</td>\n",
       "      <td>2011</td>\n",
       "    </tr>\n",
       "    <tr>\n",
       "      <th>1200</th>\n",
       "      <td>94014</td>\n",
       "      <td>1260</td>\n",
       "      <td>1480</td>\n",
       "      <td>1990</td>\n",
       "      <td>2330</td>\n",
       "      <td>2011</td>\n",
       "    </tr>\n",
       "    <tr>\n",
       "      <th>1182</th>\n",
       "      <td>94015</td>\n",
       "      <td>1460</td>\n",
       "      <td>1720</td>\n",
       "      <td>2310</td>\n",
       "      <td>2710</td>\n",
       "      <td>2011</td>\n",
       "    </tr>\n",
       "  </tbody>\n",
       "</table>\n",
       "</div>"
      ],
      "text/plain": [
       "        zip   1br   2br   3br   4br  year\n",
       "1469  94002  1390  1640  2210  2580  2011\n",
       "1191  94005  1390  1630  2190  2560  2011\n",
       "1370  94010  1290  1520  2040  2390  2011\n",
       "1200  94014  1260  1480  1990  2330  2011\n",
       "1182  94015  1460  1720  2310  2710  2011"
      ]
     },
     "execution_count": 3,
     "metadata": {},
     "output_type": "execute_result"
    }
   ],
   "source": [
    "df = pd.read_csv(\"zip-county-data.csv\").reset_index(drop = True, inplace = False)\n",
    "df = df.drop(columns=[\"Unnamed: 0\", \"county\"])\n",
    "df = df.sort_values([\"year\",\"zip\"])\n",
    "df.head()"
   ]
  },
  {
   "cell_type": "code",
   "execution_count": 4,
   "metadata": {},
   "outputs": [],
   "source": [
    "df['1br-hw']=((((df['1br']*12)/0.3)/52)/40).round(2)\n",
    "df['2br-hw']=((((df['2br']*12)/0.3)/52)/40).round(2)\n",
    "df['3br-hw']=((((df['3br']*12)/0.3)/52)/40).round(2)\n",
    "df['4br-hw']=((((df['4br']*12)/0.3)/52)/40).round(2)"
   ]
  },
  {
   "cell_type": "code",
   "execution_count": 8,
   "metadata": {},
   "outputs": [
    {
     "data": {
      "text/html": [
       "<div>\n",
       "<style scoped>\n",
       "    .dataframe tbody tr th:only-of-type {\n",
       "        vertical-align: middle;\n",
       "    }\n",
       "\n",
       "    .dataframe tbody tr th {\n",
       "        vertical-align: top;\n",
       "    }\n",
       "\n",
       "    .dataframe thead th {\n",
       "        text-align: right;\n",
       "    }\n",
       "</style>\n",
       "<table border=\"1\" class=\"dataframe\">\n",
       "  <thead>\n",
       "    <tr style=\"text-align: right;\">\n",
       "      <th></th>\n",
       "      <th>zip</th>\n",
       "      <th>1br</th>\n",
       "      <th>2br</th>\n",
       "      <th>3br</th>\n",
       "      <th>4br</th>\n",
       "      <th>year</th>\n",
       "      <th>1br-hw</th>\n",
       "      <th>2br-hw</th>\n",
       "      <th>3br-hw</th>\n",
       "      <th>4br-hw</th>\n",
       "    </tr>\n",
       "  </thead>\n",
       "  <tbody>\n",
       "    <tr>\n",
       "      <th>1469</th>\n",
       "      <td>94002</td>\n",
       "      <td>1390</td>\n",
       "      <td>1640</td>\n",
       "      <td>2210</td>\n",
       "      <td>2580</td>\n",
       "      <td>2011</td>\n",
       "      <td>26.73</td>\n",
       "      <td>31.54</td>\n",
       "      <td>42.50</td>\n",
       "      <td>49.62</td>\n",
       "    </tr>\n",
       "    <tr>\n",
       "      <th>1191</th>\n",
       "      <td>94005</td>\n",
       "      <td>1390</td>\n",
       "      <td>1630</td>\n",
       "      <td>2190</td>\n",
       "      <td>2560</td>\n",
       "      <td>2011</td>\n",
       "      <td>26.73</td>\n",
       "      <td>31.35</td>\n",
       "      <td>42.12</td>\n",
       "      <td>49.23</td>\n",
       "    </tr>\n",
       "    <tr>\n",
       "      <th>1370</th>\n",
       "      <td>94010</td>\n",
       "      <td>1290</td>\n",
       "      <td>1520</td>\n",
       "      <td>2040</td>\n",
       "      <td>2390</td>\n",
       "      <td>2011</td>\n",
       "      <td>24.81</td>\n",
       "      <td>29.23</td>\n",
       "      <td>39.23</td>\n",
       "      <td>45.96</td>\n",
       "    </tr>\n",
       "    <tr>\n",
       "      <th>1200</th>\n",
       "      <td>94014</td>\n",
       "      <td>1260</td>\n",
       "      <td>1480</td>\n",
       "      <td>1990</td>\n",
       "      <td>2330</td>\n",
       "      <td>2011</td>\n",
       "      <td>24.23</td>\n",
       "      <td>28.46</td>\n",
       "      <td>38.27</td>\n",
       "      <td>44.81</td>\n",
       "    </tr>\n",
       "    <tr>\n",
       "      <th>1182</th>\n",
       "      <td>94015</td>\n",
       "      <td>1460</td>\n",
       "      <td>1720</td>\n",
       "      <td>2310</td>\n",
       "      <td>2710</td>\n",
       "      <td>2011</td>\n",
       "      <td>28.08</td>\n",
       "      <td>33.08</td>\n",
       "      <td>44.42</td>\n",
       "      <td>52.12</td>\n",
       "    </tr>\n",
       "  </tbody>\n",
       "</table>\n",
       "</div>"
      ],
      "text/plain": [
       "        zip   1br   2br   3br   4br  year  1br-hw  2br-hw  3br-hw  4br-hw\n",
       "1469  94002  1390  1640  2210  2580  2011   26.73   31.54   42.50   49.62\n",
       "1191  94005  1390  1630  2190  2560  2011   26.73   31.35   42.12   49.23\n",
       "1370  94010  1290  1520  2040  2390  2011   24.81   29.23   39.23   45.96\n",
       "1200  94014  1260  1480  1990  2330  2011   24.23   28.46   38.27   44.81\n",
       "1182  94015  1460  1720  2310  2710  2011   28.08   33.08   44.42   52.12"
      ]
     },
     "execution_count": 8,
     "metadata": {},
     "output_type": "execute_result"
    }
   ],
   "source": [
    "df.head()"
   ]
  },
  {
   "cell_type": "code",
   "execution_count": 11,
   "metadata": {},
   "outputs": [
    {
     "ename": "SyntaxError",
     "evalue": "invalid syntax (<ipython-input-11-82941b5013b6>, line 12)",
     "output_type": "error",
     "traceback": [
      "\u001b[0;36m  File \u001b[0;32m\"<ipython-input-11-82941b5013b6>\"\u001b[0;36m, line \u001b[0;32m12\u001b[0m\n\u001b[0;31m    city = info.\u001b[0m\n\u001b[0m                ^\u001b[0m\n\u001b[0;31mSyntaxError\u001b[0m\u001b[0;31m:\u001b[0m invalid syntax\n"
     ]
    }
   ],
   "source": [
    "# zipcodes = df['zip'].tolist()\n",
    "\n",
    "def get_city(zipcode):\n",
    "    search = SearchEngine()\n",
    "    info = search.by_zipcode(zipcode)\n",
    "    city = info.major_city\n",
    "    return city\n",
    "\n",
    "def get_county(zipcode):\n",
    "    search = SearchEngine()\n",
    "    info = search.by_zipcode(zipcode)\n",
    "    city = info.\n",
    "    return county"
   ]
  },
  {
   "cell_type": "code",
   "execution_count": 7,
   "metadata": {},
   "outputs": [
    {
     "ename": "NameError",
     "evalue": "name 'get_city' is not defined",
     "output_type": "error",
     "traceback": [
      "\u001b[0;31m---------------------------------------------------------------------------\u001b[0m",
      "\u001b[0;31mNameError\u001b[0m                                 Traceback (most recent call last)",
      "\u001b[0;32m<ipython-input-7-d9dc0531427d>\u001b[0m in \u001b[0;36m<module>\u001b[0;34m\u001b[0m\n\u001b[0;32m----> 1\u001b[0;31m \u001b[0mdf\u001b[0m\u001b[0;34m[\u001b[0m\u001b[0;34m'city'\u001b[0m\u001b[0;34m]\u001b[0m \u001b[0;34m=\u001b[0m \u001b[0mdf\u001b[0m\u001b[0;34m[\u001b[0m\u001b[0;34m'zip'\u001b[0m\u001b[0;34m]\u001b[0m\u001b[0;34m.\u001b[0m\u001b[0mapply\u001b[0m\u001b[0;34m(\u001b[0m\u001b[0mget_city\u001b[0m\u001b[0;34m)\u001b[0m\u001b[0;34m\u001b[0m\u001b[0;34m\u001b[0m\u001b[0m\n\u001b[0m",
      "\u001b[0;31mNameError\u001b[0m: name 'get_city' is not defined"
     ]
    }
   ],
   "source": [
    "df['city'] = df['zip'].apply(get_city)"
   ]
  },
  {
   "cell_type": "code",
   "execution_count": 1,
   "metadata": {},
   "outputs": [
    {
     "ename": "NameError",
     "evalue": "name 'df' is not defined",
     "output_type": "error",
     "traceback": [
      "\u001b[0;31m---------------------------------------------------------------------------\u001b[0m",
      "\u001b[0;31mNameError\u001b[0m                                 Traceback (most recent call last)",
      "\u001b[0;32m<ipython-input-1-c3612c624a3f>\u001b[0m in \u001b[0;36m<module>\u001b[0;34m\u001b[0m\n\u001b[0;32m----> 1\u001b[0;31m \u001b[0mdf\u001b[0m\u001b[0;34m.\u001b[0m\u001b[0mmin\u001b[0m\u001b[0;34m(\u001b[0m\u001b[0;34m)\u001b[0m\u001b[0;34m\u001b[0m\u001b[0;34m\u001b[0m\u001b[0m\n\u001b[0m",
      "\u001b[0;31mNameError\u001b[0m: name 'df' is not defined"
     ]
    }
   ],
   "source": [
    "df.min()"
   ]
  },
  {
   "cell_type": "code",
   "execution_count": null,
   "metadata": {},
   "outputs": [],
   "source": []
  }
 ],
 "metadata": {
  "kernelspec": {
   "display_name": "Python 3",
   "language": "python",
   "name": "python3"
  },
  "language_info": {
   "codemirror_mode": {
    "name": "ipython",
    "version": 3
   },
   "file_extension": ".py",
   "mimetype": "text/x-python",
   "name": "python",
   "nbconvert_exporter": "python",
   "pygments_lexer": "ipython3",
   "version": "3.6.7"
  }
 },
 "nbformat": 4,
 "nbformat_minor": 2
}
